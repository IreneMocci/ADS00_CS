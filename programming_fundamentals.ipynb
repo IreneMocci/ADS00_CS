{
 "cells": [
  {
   "cell_type": "code",
   "execution_count": 1,
   "metadata": {},
   "outputs": [
    {
     "data": {
      "text/plain": [
       "1"
      ]
     },
     "execution_count": 1,
     "metadata": {},
     "output_type": "execute_result"
    }
   ],
   "source": [
    "def minimum_profitable_volume(sell_price, fixed_cost, cost_per_unit):\n",
    "    \"\"\"\n",
    "    For this exercise, you will need to implement a function that\n",
    "    computes the minimum number of units that need to be manufactured by a factory\n",
    "    for their process to be profitable.\n",
    "\n",
    "    We assume that every unit manufactured is sold at the sell_price.\n",
    "    You will need to take into account the fixed_cost, which is a constant cost\n",
    "    associated with manufactoring as well as the cost_per_unit that we have to pay for\n",
    "    each unit manufactured.\n",
    "\n",
    "    Your goal is to find how many units need to be built and sold\n",
    "    in order for the total cost to be entirely covered by sales.\n",
    "\n",
    "    E.g., minimum_profitable_volume(1020, 1000, 20) is 1\n",
    "    E.g., minimum_profitable_volume(1019, 1000, 20) is 2\n",
    "    E.g., minimum_profitable_volume(600, 1000, 20) is 2\n",
    "    E.g., minimum_profitable_volume(30, 1000, 20) is 100\n",
    "    E.g., minimum_profitable_volume(21, 1000, 20) is 1000\n",
    "\n",
    "    Note: It isn't sustainable for the factory to sell a unit in a lower price than\n",
    "    its manufacturing cost as it wouldn't make any profit. If that is the case and\n",
    "    you cannot be profitable, return None.\n",
    "\n",
    "    :param sell_price: price each unit is sold at\n",
    "    :return: number of units that need to be made and sold\n",
    "    :rtype: float | int\n",
    "    \"\"\"\n",
    "    cost = fixed_cost + cost_per_unit\n",
    "    sell_price_new = sell_price\n",
    "    min_unit = 1\n",
    "    if sell_price >= cost:\n",
    "        return min_unit\n",
    "    else:\n",
    "        while sell_price_new < cost:\n",
    "            sell_price_new += sell_price\n",
    "            cost += cost_per_unit\n",
    "            min_unit += 1\n",
    "        return min_unit\n",
    "\n",
    "\n",
    "minimum_profitable_volume(1020, 1000, 20)"
   ]
  },
  {
   "cell_type": "code",
   "execution_count": 2,
   "metadata": {},
   "outputs": [],
   "source": [
    "CLIENTS_EXAMPLE = [\n",
    "{\n",
    "        \"first-name\": \"Elsa\",\n",
    "        \"last-name\": \"Frost\",\n",
    "        \"title\": \"Princess\",\n",
    "        \"address\": \"33 Castle Street, London\",\n",
    "        \"loyalty-program\": \"Gold\",\n",
    "    },\n",
    "    {\n",
    "        \"first-name\": \"Anna\",\n",
    "        \"last-name\": \"Frost\",\n",
    "        \"title\": \"Princess\",\n",
    "        \"address\": \"34 Castle Street, London\",\n",
    "        \"loyalty-program\": \"Platinum\",\n",
    "    },\n",
    "    {\n",
    "        \"first-name\": \"Harry\",\n",
    "        \"middle-name\": \"Harold\",\n",
    "        \"last-name\": \"Hare\",\n",
    "        \"title\": \"Mr\",\n",
    "        \"email-address\": \"harry.harold@hare.name\",\n",
    "        \"loyalty-program\": \"Silver\",\n",
    "    },\n",
    "    {\n",
    "        \"first-name\": \"Leonnie\",\n",
    "        \"last-name\": \"Lion\",\n",
    "        \"title\": \"Mrs\",\n",
    "        \"loyalty-program\": \"Silver\",\n",
    "    },\n",
    "]\n"
   ]
  },
  {
   "cell_type": "code",
   "execution_count": 3,
   "metadata": {},
   "outputs": [
    {
     "data": {
      "text/plain": [
       "[('Princess Elsa Frost', '33 Castle Street, London')]"
      ]
     },
     "execution_count": 3,
     "metadata": {},
     "output_type": "execute_result"
    }
   ],
   "source": [
    "def process_clients(segment):\n",
    "    \"\"\"\n",
    "    This function processes a list of data about clients to prepare for a marketing\n",
    "    campaign.\n",
    "\n",
    "    Each client is represented by a dictionary with various fields (see CLIENTS_EXAMPLE\n",
    "    above). Note that sometimes, some of the fields can be missing, you will need to\n",
    "    take extra care to handle them.\n",
    "\n",
    "    This function should return a new list of clients with the following format:\n",
    "\n",
    "    For each client that have a registered address, we need a tuple that contains\n",
    "    the following details:\n",
    "        - full name with title (e.g., \"Mr John Smith\") omitting any parts that\n",
    "          are not provided,\n",
    "        - full name includes title, first name, middle name and last name in\n",
    "          that order if defined,\n",
    "        - the mailing address (not the email-address).\n",
    "    If a client has no registered addresses, they should not be included in the\n",
    "    returned list.\n",
    "\n",
    "    E.g., preprocess_client_segment(CLIENTS_EXAMPLE) includes 'Princess Elsa Frost'\n",
    "    but it should not include 'Mrs Leonnie Lion' because there are no associated addresses in the data.\n",
    "\n",
    "    So, for preprocess_client_segment(CLIENTS_EXAMPLE) one of the tuples included in the list\n",
    "    is ('Princess Elsa Frost', '33 Castle Street, London')\n",
    "\n",
    "    :param segment: list of client records. See sample above.\n",
    "    :return: preprocessed list of tuples consisting of full name and mailing address.\n",
    "    :rtype: list of tuples\n",
    "    \"\"\"\n",
    "    fields = [\"title\", \"first-name\", \"middle-name\", \"last-name\"]\n",
    "    address = \"address\"\n",
    "    client_info = []\n",
    "    if segment:\n",
    "        for idx, elem in enumerate(segment):\n",
    "            client = []\n",
    "            client_name = []\n",
    "            if 'address' in segment[idx]:\n",
    "                for field in fields:\n",
    "                    name = elem.get(field, 0)\n",
    "                    client_add = elem.get(address)\n",
    "                    if name != 0:\n",
    "                        client_name.append(name)\n",
    "                        full_name = ' '.join(client_name)\n",
    "                client.append(full_name)\n",
    "                client.append(client_add)\n",
    "                client_end = tuple(client)\n",
    "                client_info.append(client_end)\n",
    "                return client_info\n",
    "            else:\n",
    "                return []\n",
    "    else:\n",
    "        return segment\n",
    "\n",
    "\n",
    "process_clients(CLIENTS_EXAMPLE)"
   ]
  },
  {
   "cell_type": "code",
   "execution_count": 4,
   "metadata": {},
   "outputs": [],
   "source": [
    "\"\"\"\n",
    "DATA PROCESSING\n",
    "\"\"\"\n",
    "\n",
    "PRICES_PER_HOUR_PER_DAY_SAMPLE = [\n",
    "    [11300, 12000, 12100, 12100, 11800, 11100, 10300, 9400],  # Prices for business hours on Monday\n",
    "    [10100, 10300, 10200, 10300, 10200, 10100, 10200, 10200],  # Prices for business hours on Tuesday\n",
    "    [10600, 10700, 10100, 10000, 9800, 8400, 7500, 9000],  # Prices for business hours on Wednesday\n",
    "    [9100, 9600, 10200, 10200, 10200, 10300, 10100, 10400],  # Prices for business hours on Thursday\n",
    "    [10500, 10600, 13200, 10800, 10500, 10200, 9900, 9800]  # Prices for business hours on Friday\n",
    "]"
   ]
  },
  {
   "cell_type": "code",
   "execution_count": 5,
   "metadata": {},
   "outputs": [
    {
     "data": {
      "text/plain": [
       "[[100.0, 200.0], [300.0, 400.0]]"
      ]
     },
     "execution_count": 5,
     "metadata": {},
     "output_type": "execute_result"
    }
   ],
   "source": [
    "def normalize_prices(prices):\n",
    "    \"\"\"\n",
    "    This function takes a list of prices for a given commodity.\n",
    "\n",
    "    The prices are given as a list of list of numbers. Each inner list corresponds\n",
    "    to a day of the week, and each number corresponds to the price at a given\n",
    "    hour of the day (limited to business hours only).\n",
    "\n",
    "    See the example of PRICES_PER_HOUR_PER_DAY_SAMPLE above. Here we have a list\n",
    "    containing five lists (so the data is for one week only), each inner list\n",
    "    contains 8 numbers, for 8 hours in the day.\n",
    "\n",
    "    This function should normalise all the prices such that the first value is\n",
    "    worth 100 and the other are adjusted accordingly.\n",
    "\n",
    "    E.g., normalize_prices([[1, 2], [3, 4]]) is [[100, 200], [300, 400]]\n",
    "    E.g., normalize_prices([[200, 20], [30, 400]]) is [[100, 10], [15, 200]]\n",
    "\n",
    "    NOTE: prices need to consist of lists of the same length meaning that no prices\n",
    "    for given hours are missing and if they are, you must raise a ValueError.\n",
    "\n",
    "    :param prices: list of list of prices\n",
    "    :return: normalised list of list of prices where the first price is 100\n",
    "    and the other prices are scaled accordingly\n",
    "    :rtype: list\n",
    "    \"\"\"\n",
    "    count = 1\n",
    "    row = len(prices)\n",
    "    col = len(prices[0])\n",
    "    for i in range(1, row):\n",
    "        if col == len(prices[i]):\n",
    "            count += 1\n",
    "    if count == row:\n",
    "        first_value = prices[0][0]\n",
    "        prices_norm = prices.copy()\n",
    "        for j in range(row):\n",
    "            for k in range(col):\n",
    "                prices_norm[j][k] = (prices[j][k]*100)/first_value\n",
    "        return prices_norm\n",
    "    else:\n",
    "        raise ValueError('List have not the same length')\n",
    "\n",
    "normalize_prices([[1, 2], [3, 4]])"
   ]
  },
  {
   "cell_type": "code",
   "execution_count": 6,
   "metadata": {},
   "outputs": [
    {
     "data": {
      "text/plain": [
       "[[1, 4], [2, 5], [3, 6]]"
      ]
     },
     "execution_count": 6,
     "metadata": {},
     "output_type": "execute_result"
    }
   ],
   "source": [
    "def flip_prices(prices):\n",
    "    \"\"\"\n",
    "    This function returns a list of daily prices for each observed hour given\n",
    "    a list of hourly prices for each observed day.\n",
    "\n",
    "    E.g., flip_prices([[1, 2, 3], [4, 5, 6]]) is [[1, 4], [2, 5], [3, 6]]\n",
    "\n",
    "    NOTE: prices need to consist of lists of the same length meaning that no prices\n",
    "    for given hours are missing and if they are, you must raise a ValueError.\n",
    "\n",
    "    :param prices: list (for days) of list (for hours) of prices\n",
    "    :return: list (for hours) of list (for days) of prices\n",
    "    :rtype: list\n",
    "    \"\"\"\n",
    "    count = 1\n",
    "    row = len(prices)\n",
    "    col = len(prices[0])\n",
    "    for i in range(1, row):\n",
    "        if col == len(prices[i]):\n",
    "            count += 1\n",
    "    if count == row:\n",
    "        flip = []\n",
    "        for k in range(col):\n",
    "            new_row = []\n",
    "            for j in range(row):\n",
    "                new_row.append(prices[j][k])\n",
    "            flip.append(new_row)\n",
    "        return flip\n",
    "    else:\n",
    "        raise ValueError('List have not the same length')\n",
    "\n",
    "flip_prices([[1, 2, 3], [4, 5, 6]])"
   ]
  },
  {
   "cell_type": "code",
   "execution_count": 7,
   "metadata": {},
   "outputs": [],
   "source": [
    "\"\"\"\n",
    "ORDER AND CART MANAGEMENT\n",
    "\n",
    "Orders are sets of items ordered by a customer\n",
    "An ordered item has four components:\n",
    " - a name\n",
    " - a quantity (the number of such items bought)\n",
    " - a unit price (in pence)\n",
    " - a unit weight (in pounds)\n",
    "Those are represented by a tuple.\n",
    "\n",
    "NOTE: You can safely assume that all orders have all the required fields\n",
    "(name, quantity, unit-price and unit-weight) so no validation needs to be made.\n",
    "\n",
    "DO NOT MODIFY CONSTANTS\n",
    "\"\"\"\n",
    "ORDER_SAMPLE_1 = {(\"lamp\", 2, 2399, 2), (\"chair\", 4, 3199, 10), (\"table\", 1, 5599, 85)}\n",
    "ORDER_SAMPLE_2 = {(\"sofa\", 1, 18399, 140), (\"bookshelf\", 2, 4799, 40)}\n",
    "CATALOGUE = {(\"table\", 9999, 20), (\"chair\", 2999, 5), (\"lamp\", 1999, 10)}"
   ]
  },
  {
   "cell_type": "code",
   "execution_count": 8,
   "metadata": {},
   "outputs": [
    {
     "data": {
      "text/plain": [
       "7000"
      ]
     },
     "execution_count": 8,
     "metadata": {},
     "output_type": "execute_result"
    }
   ],
   "source": [
    "def delivery_charges(order):\n",
    "    \"\"\"\n",
    "    Compute the delivery charges for an order. The company charges a flat £50\n",
    "    fee plus £20 for each 100lbs (additional weight under 100lbs is ignored).\n",
    "\n",
    "    E.g., delivery_charges({(\"desk\", 1, 11999, 160)}) is 7000 (pence)\n",
    "    E.g., delivery_charges({(\"desk\", 2, 11999, 160)}) is 11000 (pence)\n",
    "    E.g., delivery_charges({(\"lamp\", 1, 2399, 2)}) is 5000 (pence)\n",
    "    E.g., delivery_charges({(\"lamp\", 50, 2399, 2)}) is 7000 (pence)\n",
    "\n",
    "    :param order: order to process. See samples for examples.\n",
    "    :return: delivery fee in pence\n",
    "    :rtype: float | int\n",
    "    \"\"\"\n",
    "    flat_fee = 50\n",
    "    fee_lb = 20\n",
    "    fee_items = 0\n",
    "    for i in order:\n",
    "        quantity = i[1]\n",
    "        weight = i[3]\n",
    "        num_fee_lb = weight*quantity//100\n",
    "        fee_items += num_fee_lb*fee_lb\n",
    "    fee_delivery = (flat_fee + fee_items)*100\n",
    "    return fee_delivery\n",
    "\n",
    "delivery_charges({(\"desk\", 1, 11999, 160)})\n"
   ]
  },
  {
   "cell_type": "code",
   "execution_count": 9,
   "metadata": {},
   "outputs": [
    {
     "data": {
      "text/plain": [
       "39798"
      ]
     },
     "execution_count": 9,
     "metadata": {},
     "output_type": "execute_result"
    }
   ],
   "source": [
    "def total_charge(order):\n",
    "    \"\"\"\n",
    "    Compute the total charge for an order. It includes:\n",
    "        - total price of items,\n",
    "        - VAT (20% of the price of items),\n",
    "        - delivery fee\n",
    "\n",
    "    NOTE: in this computation, VAT is not applied to the delivery\n",
    "\n",
    "    E.g., total_charge({(\"desk\", 2, 11999, 160)}) is 39797 (pence)\n",
    "    E.g., total_charge({(\"lamp\", 50, 2399, 2)}) is 150940 (pence)\n",
    "    Hint: Look up the built-in Python function round().\n",
    "\n",
    "    :param order: order to process. See samples.\n",
    "    :return: total price, in pence, rounded to the nearest penny.\n",
    "    :rtype: float | int\n",
    "    \"\"\"\n",
    "    delivery = delivery_charges(order)\n",
    "    price_vat = 0\n",
    "    for i in order:\n",
    "        vat = 0\n",
    "        quantity = i[1]\n",
    "        price = i[2]\n",
    "        vat += (price*20)/100\n",
    "        price_vat += quantity*(price + vat)\n",
    "    tot_charge = delivery + round(price_vat)\n",
    "    return tot_charge\n",
    "\n",
    "total_charge({(\"desk\", 2, 11999, 160)})"
   ]
  },
  {
   "cell_type": "code",
   "execution_count": 10,
   "metadata": {},
   "outputs": [
    {
     "data": {
      "text/plain": [
       "{('table', 2, 9999, 20)}"
      ]
     },
     "execution_count": 10,
     "metadata": {},
     "output_type": "execute_result"
    }
   ],
   "source": [
    "def add_item_to_order(name, quantity, order):\n",
    "    \"\"\"\n",
    "    When a customer adds items to their basket, you need to update their order.\n",
    "\n",
    "    The customer provides some of the details (the name of the item and\n",
    "    the quantity they want). The rest (price and weight) needs to be looked up in\n",
    "    the CATALOGUE provided above.\n",
    "\n",
    "    NOTE: you must return a new order as a set and leave the argument unmodified.\n",
    "\n",
    "    NOTE: if the order already contains some of the items, you must update the\n",
    "    quantity field for that item; otherwise, you must add a new entry in the\n",
    "    order\n",
    "\n",
    "    NOTE: if the item cannot be found in the catalogue, the function should raise\n",
    "    a KeyError.\n",
    "\n",
    "    E.g., add_item_to_order(\"table\", 1, {(\"table\", 1, 9999, 20)}) is\n",
    "        {(\"table\", 2, 9999, 20)}\n",
    "    E.g., add_item_to_order(\"chair\", 1, {(\"table\", 1, 9999, 20)}) is\n",
    "        {(\"table\", 1, 9999, 20), (\"chair\", 1, 2999, 5)}\n",
    "\n",
    "    :param name: name of the item to add\n",
    "    :param quantity: number of items to add\n",
    "    :param order: previous order\n",
    "    :return: a new order with the added items. If the item is unknown, raise a KeyError\n",
    "    :rtype: set\n",
    "    \"\"\"\n",
    "    catalogue = {(\"table\", 9999, 20), (\"chair\", 2999, 5), (\"lamp\", 1999, 10)}\n",
    "    item_found = 0\n",
    "    for i in catalogue:\n",
    "        if name in i[0]:\n",
    "            item_found = 1\n",
    "            cat_price = i[1]\n",
    "            cat_weight = i[2]\n",
    "    if item_found == 1:\n",
    "        if order:\n",
    "            for j in order:\n",
    "                name_item = j[0]\n",
    "                quantity_item = j[1]\n",
    "                if name in name_item:\n",
    "                    quantity_item += quantity\n",
    "                    new_order = {(name, quantity_item, cat_price, cat_weight)}\n",
    "                    return new_order\n",
    "                else:\n",
    "                    new_order = {(name, quantity, cat_price, cat_weight)} | order\n",
    "                    return new_order\n",
    "        else:\n",
    "            new_order = {(name, quantity, cat_price, cat_weight)}\n",
    "            return new_order\n",
    "    else:\n",
    "        raise KeyError('The item is not available')\n",
    "\n",
    "add_item_to_order(\"table\", 1, {(\"table\", 1, 9999, 20)})\n",
    "\n"
   ]
  },
  {
   "cell_type": "code",
   "execution_count": 11,
   "metadata": {},
   "outputs": [],
   "source": [
    "\"\"\"\n",
    "ANALYSE TEXT\n",
    "\"\"\"\n",
    "import re\n",
    "\n",
    "\n",
    "# Sample from 20,000 leagues under the sea by Jules Verne\n",
    "\n",
    "TEXT_SAMPLE = \"\"\"\n",
    "Striking an average of observations taken at different times-- rejecting those\n",
    "timid estimates that gave the object a length of 200 feet, and ignoring those\n",
    "exaggerated views that saw it as a mile wide and three long--you could still\n",
    "assert that this phenomenal creature greatly exceeded the dimensions of\n",
    "anything then known to ichthyologists, if it existed at all.\n",
    "Now then, it did exist, this was an undeniable fact; and since the human mind\n",
    "dotes on objects of wonder, you can understand the worldwide excitement caused\n",
    "by this unearthly apparition. As for relegating it to the realm of fiction,\n",
    "that charge had to be dropped.\n",
    "In essence, on July 20, 1866, the steamer Governor Higginson, from the\n",
    "Calcutta & Burnach Steam Navigation Co., encountered this moving mass five\n",
    "miles off the eastern shores of Australia.\n",
    "\"\"\""
   ]
  },
  {
   "cell_type": "code",
   "execution_count": 12,
   "metadata": {},
   "outputs": [
    {
     "data": {
      "text/plain": [
       "[1.0]"
      ]
     },
     "execution_count": 12,
     "metadata": {},
     "output_type": "execute_result"
    }
   ],
   "source": [
    "def extract_numbers(text):\n",
    "    \"\"\"\n",
    "    This function finds all the numbers in the text and returns them in a list\n",
    "    of floats.\n",
    "\n",
    "    NOTE: commas are used to separate thousands\n",
    "    NOTE: several consecutive numbers are separated by a comma and a space\n",
    "\n",
    "    E.g., extract_numbers(\"this is 1 awesome string\") is [1.0]\n",
    "    E.g., extract_numbers(\"12 days of XMas\") is [12.0]\n",
    "    E.g., extract_numbers(\"1, 2, 3, un pasito pa'lante Maria\")\n",
    "    is [1.0, 2.0, 3.0]\n",
    "\n",
    "    :param text: string that forms English text\n",
    "    :return: list of numbers (as floats) that are present in the text\n",
    "    :rtype: list\n",
    "    \"\"\"\n",
    "    n_text = text.replace(',', '')\n",
    "    num = re.findall(r\"\\d+\", n_text)\n",
    "    numbers = [float(s) for s in num]\n",
    "    return numbers\n",
    "\n",
    "extract_numbers(\"this is 1 awesome string\")\n"
   ]
  },
  {
   "cell_type": "code",
   "execution_count": 13,
   "metadata": {},
   "outputs": [
    {
     "data": {
      "text/plain": [
       "['functions', 'expected']"
      ]
     },
     "execution_count": 13,
     "metadata": {},
     "output_type": "execute_result"
    }
   ],
   "source": [
    "def latin_ish_words(text):\n",
    "    \"\"\"\n",
    "    English has words from Latin (or Spanish, Italian, French, etc.) and from\n",
    "    German (or Dutch, etc.). They are often easy to tell apart. This function\n",
    "    picks up some of the Latin sounding words based on some of their features.\n",
    "\n",
    "    Latin features:\n",
    "        - tion (as in navigation, isolation, or mitigation)\n",
    "        - ex (as in explanation, exfiltrate, or expert)\n",
    "        - ph (as in philosophy, philanthropy, or ephemera)\n",
    "        - ost, ist, ast (as in hostel, distribute, past)\n",
    "\n",
    "    NOTE: this matching method is not exact, many Germanic words include those\n",
    "    features, and many Latin words lack them.\n",
    "    NOTE: matching this way should ignore case. For the purpose of this exercise,\n",
    "    we want to match any word containing at least one of the strings above.\n",
    "    NOTE: the latin feature can be in the middle of the word, it can be a suffix,\n",
    "    a prefix or a full word on its own.\n",
    "\n",
    "    E.g., latin_ish_words(\"This works well\") is []\n",
    "    E.g., latin_ish_words(\"This functions as expected\")\n",
    "    is [\"functions\", \"expected\"]\n",
    "\n",
    "    :param text: string that forms English text\n",
    "    :return: list of words present in the text that have any of the Latin\n",
    "    features listed above. Order of the words in the list should be the same as\n",
    "    how they appear in the text.\n",
    "    :rtype: list\n",
    "    \"\"\"\n",
    "    suf = ['tion', 'ex', 'ph', 'ost', 'ist', 'ast']\n",
    "    no_commas = text.replace(',', '')\n",
    "    no_dots = no_commas.replace('.', '')\n",
    "    no_tabs = no_dots.replace('\\n', ' ')\n",
    "    new_list = no_tabs.split(' ')\n",
    "    latin = []\n",
    "    for term in new_list:\n",
    "        for i in suf:\n",
    "            if i in term:\n",
    "                latin.append(term)\n",
    "                break\n",
    "    return latin\n",
    "\n",
    "latin_ish_words(\"This functions as expected\")"
   ]
  }
 ],
 "metadata": {
  "kernelspec": {
   "display_name": "Python (capstone)",
   "language": "python",
   "name": "capstone"
  },
  "language_info": {
   "codemirror_mode": {
    "name": "ipython",
    "version": 3
   },
   "file_extension": ".py",
   "mimetype": "text/x-python",
   "name": "python",
   "nbconvert_exporter": "python",
   "pygments_lexer": "ipython3",
   "version": "3.7.7"
  }
 },
 "nbformat": 4,
 "nbformat_minor": 4
}
