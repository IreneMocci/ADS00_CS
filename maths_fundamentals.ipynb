{
 "cells": [
  {
   "cell_type": "markdown",
   "metadata": {},
   "source": [
    "## Linear algebra"
   ]
  },
  {
   "cell_type": "code",
   "execution_count": 1,
   "metadata": {},
   "outputs": [],
   "source": [
    "from scipy.special import comb"
   ]
  },
  {
   "cell_type": "markdown",
   "metadata": {},
   "source": [
    "\n",
    "Given the following function f(x) = w1 * x1^2 + w2 * x2 where x is a valid vector with coordinates [x1, x2] evaluate the gradient of the function at the point x\n",
    "\n",
    "* :param w1: first coefficient\n",
    "* :param w2: second coefficient\n",
    "* :param x: a point represented by a valid tuple (x1, x2)\n",
    "* :return: the two coordinates of gradient of f\n",
    "    at point x\n",
    "* :rtype: float, float"
   ]
  },
  {
   "cell_type": "code",
   "execution_count": 2,
   "metadata": {},
   "outputs": [
    {
     "data": {
      "text/plain": [
       "(6, 2)"
      ]
     },
     "execution_count": 2,
     "metadata": {},
     "output_type": "execute_result"
    }
   ],
   "source": [
    "def gradient(w1, w2, x):\n",
    "    if len(x) == 2:\n",
    "        f_x1 = 2*w1*x[0]\n",
    "        f_x2 = w2\n",
    "        return f_x1, f_x2\n",
    "    else:\n",
    "        raise ValueError\n",
    "\n",
    "w1 = 3\n",
    "w2 = 2\n",
    "x = (1, 5)\n",
    "gradient(w1, w2, x)"
   ]
  },
  {
   "cell_type": "markdown",
   "metadata": {},
   "source": [
    "\n",
    "Given two vectors u and v, compute the following distances/norm between the two and return them.\n",
    " - l1 Distance (norm)\n",
    " - l2 Distance (norm)\n",
    "\n",
    "If the two vectors have different dimensions, you should raise a ValueError\n",
    "\n",
    "* :param u: first vector (list)\n",
    "* :param v: second vector (list)\n",
    "* :return: l1 distance, l2 distance\n",
    "* :rtype: float, float\n",
    "* :raise ValueError:"
   ]
  },
  {
   "cell_type": "code",
   "execution_count": 3,
   "metadata": {},
   "outputs": [
    {
     "data": {
      "text/plain": [
       "(4, 2.8284271247461903)"
      ]
     },
     "execution_count": 3,
     "metadata": {},
     "output_type": "execute_result"
    }
   ],
   "source": [
    "def metrics(u, v):\n",
    "    if len(u) == len(v):\n",
    "        l_1 = 0\n",
    "        l2_sum = 0\n",
    "        for i in range(len(u)):\n",
    "            l_1 += abs(u[i] - v[i])\n",
    "            l2_sum += (u[i] - v[i])**2\n",
    "        l_2 = l2_sum**(1/2)\n",
    "        return l_1, l_2\n",
    "    else:\n",
    "        raise ValueError('The two vectors have different dimensions')\n",
    "\n",
    "u = [3, 4]\n",
    "v = [1, 2]\n",
    "metrics(u, v)"
   ]
  },
  {
   "cell_type": "markdown",
   "metadata": {},
   "source": [
    "    \n",
    "Given two vectors, calculate and return the following quantities:\n",
    " - element-wise sum\n",
    " - element-wise product\n",
    " - dot product\n",
    "\n",
    "If the two vectors have different dimensions,you should raise a ValueError\n",
    "\n",
    "* :param u: first vector (list)\n",
    "* :param v: second vector (list)\n",
    "* :return: the three quantities above\n",
    "* :rtype: list, list, float\n",
    "* :raise ValueError:"
   ]
  },
  {
   "cell_type": "code",
   "execution_count": 4,
   "metadata": {},
   "outputs": [
    {
     "data": {
      "text/plain": [
       "([4, 6], [3, 8], 11)"
      ]
     },
     "execution_count": 4,
     "metadata": {},
     "output_type": "execute_result"
    }
   ],
   "source": [
    "def list_mul(u, v):\n",
    "    if len(u) == len(v):\n",
    "        el_sum = []\n",
    "        el_prod = []\n",
    "        for i in range(len(u)):\n",
    "            el_sum.append(u[i] + v[i])\n",
    "            el_prod.append(u[i]*v[i])\n",
    "            dot_prod = sum(el_prod)\n",
    "        return el_sum, el_prod, dot_prod\n",
    "    else:\n",
    "        raise ValueError('The two vectors have different dimensions')\n",
    "\n",
    "u = [3, 4]\n",
    "v = [1, 2]\n",
    "list_mul(u, v)"
   ]
  },
  {
   "cell_type": "markdown",
   "metadata": {},
   "source": [
    "\n",
    "Given two valid matrices A and B represented as a list of lists, implement a function to multiply them together (A * B). Your solution can either be a pure mathematical one or a more pythonic one where you\n",
    "make use of list comprehensions.\n",
    "\n",
    "For example:\n",
    "   \n",
    "    A = [[1, 2, 3],\n",
    "         [4, 5, 6]]\n",
    "    is a matrix with two rows and three columns.\n",
    "\n",
    "If the two matrices have incompatible dimensions or are not valid meaning that not all rows in the matrices have the same length you should raise a ValueError.\n",
    "\n",
    "* :param A: first matrix (list of lists)\n",
    "* :param B: second matrix (list of lists)\n",
    "* :return: resulting matrix (list of lists)\n",
    "* :rtype: list of lists\n",
    "* :raise ValueError:"
   ]
  },
  {
   "cell_type": "code",
   "execution_count": 5,
   "metadata": {},
   "outputs": [
    {
     "data": {
      "text/plain": [
       "[[24, 25], [63, 55]]"
      ]
     },
     "execution_count": 5,
     "metadata": {},
     "output_type": "execute_result"
    }
   ],
   "source": [
    "def matrix_mul(A, B):\n",
    "    contr_1 = 0\n",
    "    contr_2 = 0\n",
    "    for f in range(len(A) - 1):\n",
    "        #print(f)\n",
    "        if len(A[f]) != len(A[f + 1]):\n",
    "            contr_1 = 1\n",
    "    for h in range(len(B) - 1):\n",
    "        if len(B[h]) != len(B[h + 1]):\n",
    "            contr_2 = 1\n",
    "    if len(A[0]) == len(B) and contr_1 == 0 and contr_2 == 0:\n",
    "        res = [[0 for x, _ in enumerate(B[0])] for y, _ in enumerate(A)]\n",
    "        for i, _ in enumerate(A):\n",
    "            for j, _ in enumerate(B[0]):\n",
    "                for k, _ in enumerate(B):\n",
    "                    res[i][j] += A[i][k]*B[k][j]\n",
    "        return res\n",
    "    else:\n",
    "        raise ValueError('The two matrices have incompatible dimensions')\n",
    "\n",
    "A = [[1, 2, 3], [4, 5, 6]]\n",
    "B = [[5, 2], [5, 1], [3, 7]]\n",
    "matrix_mul(A, B)"
   ]
  },
  {
   "cell_type": "markdown",
   "metadata": {},
   "source": [
    "## Maths"
   ]
  },
  {
   "cell_type": "markdown",
   "metadata": {},
   "source": [
    "\n",
    "Given the following function f(x) = w1 * x^3 + w2 * x - 1 evaluate the derivative of the function on x\n",
    "\n",
    "* :param w1: first coefficient\n",
    "* :param w2: second coefficient\n",
    "* :param x: point on which to evaluate derivative (float)\n",
    "* :return: value of the derivative on point x\n",
    "* :rtype: float"
   ]
  },
  {
   "cell_type": "code",
   "execution_count": 6,
   "metadata": {},
   "outputs": [
    {
     "data": {
      "text/plain": [
       "239.08999999999997"
      ]
     },
     "execution_count": 6,
     "metadata": {},
     "output_type": "execute_result"
    }
   ],
   "source": [
    "def derivative(w1, w2, x):\n",
    "    y = 3*w1*x**2 + w2\n",
    "    return y\n",
    "\n",
    "w1 = 3\n",
    "w2 = 5\n",
    "x = 5.1\n",
    "derivative(w1, w2, x)"
   ]
  },
  {
   "cell_type": "markdown",
   "metadata": {},
   "source": [
    "Return the absolute value of x\n",
    "\n",
    "* :param x: a number (float)\n",
    "* :return: absolute value of x\n",
    "* :rtype: float"
   ]
  },
  {
   "cell_type": "code",
   "execution_count": 7,
   "metadata": {},
   "outputs": [
    {
     "data": {
      "text/plain": [
       "7.1"
      ]
     },
     "execution_count": 7,
     "metadata": {},
     "output_type": "execute_result"
    }
   ],
   "source": [
    "def abs_dist(x):\n",
    "    abs_value = abs(x)\n",
    "    return abs_value\n",
    "\n",
    "x = 7.1\n",
    "abs_dist(x)"
   ]
  },
  {
   "cell_type": "markdown",
   "metadata": {},
   "source": [
    "Return the factorial of x.\n",
    "Your function should raise a ValueError if x is negative\n",
    "\n",
    "* :param x: a number (int)\n",
    "* :return: the factorial of x\n",
    "* :rtype: float\n",
    "* :raise ValueError:"
   ]
  },
  {
   "cell_type": "code",
   "execution_count": 8,
   "metadata": {},
   "outputs": [
    {
     "data": {
      "text/plain": [
       "24"
      ]
     },
     "execution_count": 8,
     "metadata": {},
     "output_type": "execute_result"
    }
   ],
   "source": [
    "def fact(x):\n",
    "    if x > 0:\n",
    "        result = x*fact(x - 1)\n",
    "        return result\n",
    "    elif x == 0:\n",
    "        return 1\n",
    "    else:\n",
    "        raise ValueError('x is negative')\n",
    "\n",
    "x = 4\n",
    "fact(x)"
   ]
  },
  {
   "cell_type": "markdown",
   "metadata": {},
   "source": [
    "    \n",
    "Given n total number of items, what is the number of possible ways to choose r items from it?\n",
    "\n",
    "* :param n: total number of items (integer)\n",
    "* :param r: number of items to arrange (int)\n",
    "* :return: number of combinations\n",
    "* :rtype: integer"
   ]
  },
  {
   "cell_type": "code",
   "execution_count": 9,
   "metadata": {},
   "outputs": [
    {
     "data": {
      "text/plain": [
       "10.0"
      ]
     },
     "execution_count": 9,
     "metadata": {},
     "output_type": "execute_result"
    }
   ],
   "source": [
    "def combination(n, r):\n",
    "    result = fact(n)/(fact(r)*fact(n - r))  # n > r\n",
    "    return result\n",
    "\n",
    "n = 5\n",
    "r = 2\n",
    "combination(n, r)\n"
   ]
  },
  {
   "cell_type": "markdown",
   "metadata": {},
   "source": [
    "## Probabilities"
   ]
  },
  {
   "cell_type": "markdown",
   "metadata": {},
   "source": [
    "\n",
    "Given a coin that have probability p of giving a heads in each toss independently, what is the probability of having n heads consecutively in a row?\n",
    "\n",
    "* :param p: probability of a head\n",
    "* :param n: number of heads in a row (int)\n",
    "* :return: probability of having n heads in a row\n",
    "* :rtype: float"
   ]
  },
  {
   "cell_type": "code",
   "execution_count": 10,
   "metadata": {},
   "outputs": [
    {
     "data": {
      "text/plain": [
       "0.0081"
      ]
     },
     "execution_count": 10,
     "metadata": {},
     "output_type": "execute_result"
    }
   ],
   "source": [
    "def head_tails(p, n):\n",
    "    if isinstance(n, int):\n",
    "        prob_n = p**n\n",
    "        return prob_n\n",
    "    else:\n",
    "        raise ValueError('n is not int')\n",
    "\n",
    "p = 0.3\n",
    "n = 4\n",
    "head_tails(p, n)"
   ]
  },
  {
   "cell_type": "markdown",
   "metadata": {},
   "source": [
    "    \n",
    "Given n number of trials, p the probability of success, what is the probability of having x successes?\n",
    "\n",
    "Your function should raise a ValueError if x is higher than n.\n",
    "\n",
    "If you need to compute combinations, you can import the function \"comb\" from the package \"scipy.special\"\n",
    "\n",
    "* :param n: number of trials (int)\n",
    "* :param p: probability of success\n",
    "* :param x: number of successes (int)\n",
    "* :return: probability of having x successes\n",
    "* :rtype: float\n",
    "* :raise ValueError: if x > n"
   ]
  },
  {
   "cell_type": "code",
   "execution_count": 11,
   "metadata": {},
   "outputs": [
    {
     "data": {
      "text/plain": [
       "0.1296"
      ]
     },
     "execution_count": 11,
     "metadata": {},
     "output_type": "execute_result"
    }
   ],
   "source": [
    "def bin_dist(n, p, x):\n",
    "    is_n = isinstance(n, int)\n",
    "    is_x = isinstance(x, int)\n",
    "    if is_n and is_x:\n",
    "        if n >= x:\n",
    "            combinat = comb(n, x)\n",
    "            result = combinat*(p**x)*(1 - p)**(n - x)\n",
    "            return result\n",
    "        else:\n",
    "            raise ValueError('x is higher or equal than n')\n",
    "    else:\n",
    "        raise ValueError('x or n is not int')\n",
    "\n",
    "x = 7\n",
    "p = 0.6\n",
    "x = 4\n",
    "bin_dist(n, p, x)"
   ]
  },
  {
   "cell_type": "markdown",
   "metadata": {},
   "source": [
    "\n",
    "Given n number of trials, p the probability of successes, what is the probability of having less than or equal to x successes?\n",
    "\n",
    "Your function should raise a ValueError if x is higher than n.\n",
    "\n",
    "* :param n: number of trials (int)\n",
    "* :param p: probability of success\n",
    "* :param x: number of successes (int)\n",
    "* :return: probability of having less than or equal to x successes\n",
    "* :rtype: float\n",
    "* :raise ValueError: if x > n"
   ]
  },
  {
   "cell_type": "code",
   "execution_count": 12,
   "metadata": {},
   "outputs": [
    {
     "data": {
      "text/plain": [
       "0.02879550000000002"
      ]
     },
     "execution_count": 12,
     "metadata": {},
     "output_type": "execute_result"
    }
   ],
   "source": [
    "def bin_cdf(n, p, x):\n",
    "    is_n = isinstance(n, int)\n",
    "    is_x = isinstance(x, int)\n",
    "    if is_n and is_x:\n",
    "        if p != 1 or p != 0:\n",
    "            if n >= x:\n",
    "                result = 0\n",
    "                for k in range(x + 1):\n",
    "                    combinat = comb(n, k)\n",
    "                    result += combinat*(p**k)*(1 - p)**(n - k)\n",
    "                return result\n",
    "            else:\n",
    "                raise ValueError('x is higher than n')\n",
    "        else:\n",
    "            raise ValueError('no')\n",
    "    else:\n",
    "        raise ValueError('x or n is not int')\n",
    "\n",
    "n = 7\n",
    "p =0.7\n",
    "x = 2\n",
    "bin_cdf(n, p, x)"
   ]
  },
  {
   "cell_type": "markdown",
   "metadata": {},
   "source": [
    "## Statistic"
   ]
  },
  {
   "cell_type": "markdown",
   "metadata": {},
   "source": [
    "Return the mean of a python list\n",
    "If data is empty raise a ValueError\n",
    "\n",
    "* :param data: a list of numbers\n",
    "* :return: the mean of the list\n",
    "* :rtype: float\n",
    "* :raise ValueError:"
   ]
  },
  {
   "cell_type": "code",
   "execution_count": 13,
   "metadata": {},
   "outputs": [
    {
     "data": {
      "text/plain": [
       "5.2"
      ]
     },
     "execution_count": 13,
     "metadata": {},
     "output_type": "execute_result"
    }
   ],
   "source": [
    "def calculate_mean(data):\n",
    "    if data:\n",
    "        summation = sum(data)\n",
    "        mean = summation/len(data)\n",
    "        return mean\n",
    "    else:\n",
    "        raise ValueError('Data is empty')\n",
    "\n",
    "data = [3, 5, 4, 8, 6]\n",
    "calculate_mean(data)"
   ]
  },
  {
   "cell_type": "markdown",
   "metadata": {},
   "source": [
    "    \n",
    "Return the standard deviation of a python list using the population size (N) in order to calculate the variance.\n",
    "If data is empty raise a ValueError\n",
    "\n",
    "* :param data: list of numbers\n",
    "* :return: the standard deviation of the list\n",
    "* :rtype: float\n",
    "* :raise ValueError:"
   ]
  },
  {
   "cell_type": "code",
   "execution_count": 14,
   "metadata": {},
   "outputs": [
    {
     "data": {
      "text/plain": [
       "1.7204650534085253"
      ]
     },
     "execution_count": 14,
     "metadata": {},
     "output_type": "execute_result"
    }
   ],
   "source": [
    "def calculate_standard_deviation(data):\n",
    "    mean = calculate_mean(data)\n",
    "    if data:\n",
    "        summation = 0\n",
    "        for i in data:\n",
    "            summation += ((i - mean))**2\n",
    "        variance = summation/len(data)\n",
    "        std_deviation = (variance)**(1/2)\n",
    "        return std_deviation\n",
    "    else:\n",
    "        raise ValueError('Data is empty')\n",
    "\n",
    "data = [3, 5, 4, 8, 6]\n",
    "calculate_standard_deviation(data)"
   ]
  },
  {
   "cell_type": "markdown",
   "metadata": {},
   "source": [
    "\n",
    "Given a list of numbers, find outliers and return a new list that contains all points except outliers.\n",
    "We consider points lying outside 2 standard deviations from the mean.\n",
    "If data is empty raise a ValueError\n",
    "\n",
    "* :param data: list of numbers\n",
    "* :return: a new list without outliers\n",
    "* :rtype: list\n",
    "* :raise ValueError:"
   ]
  },
  {
   "cell_type": "code",
   "execution_count": 15,
   "metadata": {},
   "outputs": [
    {
     "data": {
      "text/plain": [
       "[3, 0, 4, 8, 20, 15]"
      ]
     },
     "execution_count": 15,
     "metadata": {},
     "output_type": "execute_result"
    }
   ],
   "source": [
    "def remove_outliers(data):\n",
    "    mean = calculate_mean(data)\n",
    "    standard_dev = calculate_standard_deviation(data)\n",
    "    data_copy = data.copy()\n",
    "    no_outlayer = []\n",
    "    if data_copy:\n",
    "        for i in data_copy:\n",
    "            if mean - 2*standard_dev <= i <= mean + 2*standard_dev:\n",
    "                no_outlayer.append(i)\n",
    "        if no_outlayer:\n",
    "            return no_outlayer\n",
    "        else:\n",
    "            return None\n",
    "    else:\n",
    "        raise ValueError('Data has only one value')\n",
    "\n",
    "data = [3, 0, 4, 8, 100, 20, 15]\n",
    "remove_outliers(data)"
   ]
  }
 ],
 "metadata": {
  "kernelspec": {
   "display_name": "Python (capstone)",
   "language": "python",
   "name": "capstone"
  },
  "language_info": {
   "codemirror_mode": {
    "name": "ipython",
    "version": 3
   },
   "file_extension": ".py",
   "mimetype": "text/x-python",
   "name": "python",
   "nbconvert_exporter": "python",
   "pygments_lexer": "ipython3",
   "version": "3.7.7"
  }
 },
 "nbformat": 4,
 "nbformat_minor": 4
}
